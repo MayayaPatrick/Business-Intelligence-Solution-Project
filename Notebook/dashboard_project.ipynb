{
 "cells": [
  {
   "cell_type": "markdown",
   "metadata": {},
   "source": [
    "## Business Understanding:\n",
    "The client has collected transactional data for the year 2019 but has not been able to leverage it for insights. They seek to extract meaningful information from the data to identify key opportunities to boost sales and improve operational efficiency. They are specifically interested in understanding revenue trends, seasonality trends, product sales performance, and customer preferences across different time periods and locations. Their goal is to make data-driven decisions to optimize their business operations, sales and makerting strategies and overall business performance.\n",
    " \n",
    " \n",
    " \n",
    "### Problem Statement:\n",
    "Our client is unable to utilize their 2019 transactional data effectively to gain business insights. They need to understand product sales performance, identify seasonal trends, and analyze product and city-based performance to uncover sales opportunities and optimize their product offerings and operational strategy. This analysis will inform them to make better data driven business decisions.\n",
    " \n",
    " \n",
    "### Project Goal\n",
    "The objective is to design and deliver an end-to-end business intelligence solution that analyzes the client’s 2019 transactional data by leveraging on the CRISP-DM methodology. The goal is to generate insights on sales trends, seasonality trends, product performance, analyze geographical delivery patterns and provide actionable recommendations to help the client increase sales and improve efficiency. The solution will also categorize products based on their price levels and uncover additional insights beyond the client’s specific questions.\n",
    " \n",
    " \n",
    " \n",
    " \n",
    "##### Stakeholders\n",
    " \n",
    "- Management\n",
    "- Marketing\n",
    "- Data Team\n",
    " \n",
    " \n",
    " \n",
    " \n",
    "### Features\n",
    " \n",
    "- Order_ID: It is the unique number of a purchased product\n",
    " \n",
    "- Product: Type of product purchased.\n",
    " \n",
    "- Quantity_Ordered: Number of products purchased\n",
    " \n",
    "- Price_Each: Price per unit of each product purchased\n",
    " \n",
    "- Order_Date: The date the product was purchased\n",
    " \n",
    "- Purchase_Address: The address of the customer\n",
    " \n",
    " \n",
    " \n",
    "## Hypothesis\n",
    " \n",
    "- High-level products (with prices above $99.99) generate a higher portion of revenue compared to basic-level products.\n",
    " \n",
    " \n",
    " \n",
    "## Business Questions\n",
    " \n",
    "1. Revenue Analysis: How much revenue was generated in 2019 from all transactions?\n",
    " \n",
    "2. Seasonality Detection: Are there any noticeable seasonal trends in sales (e.g., spikes in specific months or quarters)?\n",
    " \n",
    "3. Product Performance: What are the best-selling and worst-selling products in terms of revenue and quantity sold?\n",
    " \n",
    "4. Time Comparison: How do sales numbers compare across different time periods (months and weeks) ? Are there any trends, patterns or inconsistencies?\n",
    " \n",
    "5. Geographic Distribution: Which cities contribute the most to product deliveries and sales?\n",
    " \n",
    "6. Product Category Analysis: How do product categories compare in terms of revenue generated and quantities sold? Are high-level products driving more revenue compared to basic-level products?\n",
    " \n",
    " \n",
    " \n",
    "### Additional Insights\n",
    " \n",
    "What additional insights can be derived from the data, such as customer buying behavior, high-performing time periods, or operational inefficiencies?\n",
    "The answers to these questions will help the client make data-driven decisions to optimize their sales strategy, improve product offerings, and enhance operational efficiency.\n",
    " \n",
    "The final deliverable will be a comprehensive report and dashboard that visualizes these insights, helping the client make data-driven decisions.\n",
    " \n",
    " \n",
    " "
   ]
  },
  {
   "cell_type": "code",
   "execution_count": 3,
   "metadata": {},
   "outputs": [],
   "source": [
    "# %pip install pyodbc  \n",
    "# %pip install python-dotenv\n",
    "# %pip install squarify\n",
    "# %pip install statsmodels"
   ]
  },
  {
   "cell_type": "code",
   "execution_count": 4,
   "metadata": {},
   "outputs": [],
   "source": [
    "import pyodbc #just installed with pip\n",
    "from dotenv import dotenv_values #import the dotenv_values function from the dotenv package\n",
    "import pandas as pd\n",
    "import numpy as np\n",
    "import matplotlib.pyplot as plt\n",
    "import matplotlib.cm as cm\n",
    "import seaborn as sns\n",
    "import plotly.express as px\n",
    "import plotly.graph_objs as go\n",
    "import squarify\n",
    "import re\n",
    "from datetime import datetime\n",
    "\n",
    "import statsmodels.api as sm\n",
    "from statsmodels.formula.api import ols\n",
    "from statsmodels.stats.anova import anova_lm\n",
    "\n",
    "\n",
    "\n",
    "import warnings\n",
    "warnings.filterwarnings('ignore')\n",
    "\n"
   ]
  },
  {
   "cell_type": "code",
   "execution_count": 5,
   "metadata": {},
   "outputs": [],
   "source": [
    "#Load environment variables from .env file into a dictionary\n",
    "\n",
    "environment_variables=dotenv_values(r'D:\\mayaya\\Power-Bi-dashboard-project\\.env')\n",
    "\n",
    "# Get the values for the credentials you set in the '.env' file\n",
    "database = environment_variables.get(\"database\")\n",
    "server = environment_variables.get(\"server\")\n",
    "username = environment_variables.get(\"username\")\n",
    "password = environment_variables.get(\"password\")\n",
    "\n",
    "connection_string=f\"DRIVER={{SQL Server}};SERVER={server};DATABASE={database};UID={username};PWD={password}\"\n"
   ]
  },
  {
   "cell_type": "code",
   "execution_count": 6,
   "metadata": {},
   "outputs": [],
   "source": [
    "# Use the connect method of the pyodbc library and pass in the connection string.\n",
    "# This will connect to the server\n",
    "\n",
    "connection=pyodbc.connect(connection_string)"
   ]
  },
  {
   "cell_type": "code",
   "execution_count": 7,
   "metadata": {},
   "outputs": [],
   "source": [
    "db_query='''SELECT * \n",
    "FROM INFORMATION_SCHEMA.TABLES\n",
    "WHERE TABLE_SCHEMA= 'dbo' '''"
   ]
  },
  {
   "cell_type": "code",
   "execution_count": 8,
   "metadata": {},
   "outputs": [
    {
     "data": {
      "text/html": [
       "<div>\n",
       "<style scoped>\n",
       "    .dataframe tbody tr th:only-of-type {\n",
       "        vertical-align: middle;\n",
       "    }\n",
       "\n",
       "    .dataframe tbody tr th {\n",
       "        vertical-align: top;\n",
       "    }\n",
       "\n",
       "    .dataframe thead th {\n",
       "        text-align: right;\n",
       "    }\n",
       "</style>\n",
       "<table border=\"1\" class=\"dataframe\">\n",
       "  <thead>\n",
       "    <tr style=\"text-align: right;\">\n",
       "      <th></th>\n",
       "      <th>TABLE_CATALOG</th>\n",
       "      <th>TABLE_SCHEMA</th>\n",
       "      <th>TABLE_NAME</th>\n",
       "      <th>TABLE_TYPE</th>\n",
       "    </tr>\n",
       "  </thead>\n",
       "  <tbody>\n",
       "    <tr>\n",
       "      <th>0</th>\n",
       "      <td>dapDB</td>\n",
       "      <td>dbo</td>\n",
       "      <td>Sales_July_2019</td>\n",
       "      <td>BASE TABLE</td>\n",
       "    </tr>\n",
       "    <tr>\n",
       "      <th>1</th>\n",
       "      <td>dapDB</td>\n",
       "      <td>dbo</td>\n",
       "      <td>Sales_August_2019</td>\n",
       "      <td>BASE TABLE</td>\n",
       "    </tr>\n",
       "    <tr>\n",
       "      <th>2</th>\n",
       "      <td>dapDB</td>\n",
       "      <td>dbo</td>\n",
       "      <td>Sales_September_2019</td>\n",
       "      <td>BASE TABLE</td>\n",
       "    </tr>\n",
       "    <tr>\n",
       "      <th>3</th>\n",
       "      <td>dapDB</td>\n",
       "      <td>dbo</td>\n",
       "      <td>Sales_October_2019</td>\n",
       "      <td>BASE TABLE</td>\n",
       "    </tr>\n",
       "    <tr>\n",
       "      <th>4</th>\n",
       "      <td>dapDB</td>\n",
       "      <td>dbo</td>\n",
       "      <td>Sales_November_2019</td>\n",
       "      <td>BASE TABLE</td>\n",
       "    </tr>\n",
       "    <tr>\n",
       "      <th>5</th>\n",
       "      <td>dapDB</td>\n",
       "      <td>dbo</td>\n",
       "      <td>Sales_December_2019</td>\n",
       "      <td>BASE TABLE</td>\n",
       "    </tr>\n",
       "  </tbody>\n",
       "</table>\n",
       "</div>"
      ],
      "text/plain": [
       "  TABLE_CATALOG TABLE_SCHEMA            TABLE_NAME  TABLE_TYPE\n",
       "0         dapDB          dbo       Sales_July_2019  BASE TABLE\n",
       "1         dapDB          dbo     Sales_August_2019  BASE TABLE\n",
       "2         dapDB          dbo  Sales_September_2019  BASE TABLE\n",
       "3         dapDB          dbo    Sales_October_2019  BASE TABLE\n",
       "4         dapDB          dbo   Sales_November_2019  BASE TABLE\n",
       "5         dapDB          dbo   Sales_December_2019  BASE TABLE"
      ]
     },
     "execution_count": 8,
     "metadata": {},
     "output_type": "execute_result"
    }
   ],
   "source": [
    "data_2= pd.read_sql(db_query, connection)\n",
    " \n",
    "data_2\n",
    " "
   ]
  },
  {
   "cell_type": "code",
   "execution_count": 9,
   "metadata": {},
   "outputs": [],
   "source": [
    "#Loading July_2019\n",
    " \n",
    "query = \"SELECT * FROM dbo.Sales_July_2019\"\n",
    "Jul_2019 = pd.read_sql(query, connection)"
   ]
  },
  {
   "cell_type": "code",
   "execution_count": 10,
   "metadata": {},
   "outputs": [],
   "source": [
    "#Loading Sep_2019\n",
    " \n",
    "query = \"SELECT * FROM dbo.Sales_September_2019\"\n",
    "Sep_2019 = pd.read_sql(query, connection)"
   ]
  },
  {
   "cell_type": "code",
   "execution_count": 11,
   "metadata": {},
   "outputs": [],
   "source": [
    "#Loading Oct_2019\n",
    " \n",
    "query = \"SELECT * FROM dbo.Sales_October_2019\"\n",
    "Oct_2019 = pd.read_sql(query, connection)\n",
    " "
   ]
  },
  {
   "cell_type": "code",
   "execution_count": 12,
   "metadata": {},
   "outputs": [],
   "source": [
    "#Loading Nov_2019\n",
    " \n",
    "query = \"SELECT * FROM dbo.Sales_November_2019\"\n",
    "Nov_2019 = pd.read_sql(query, connection)                                                "
   ]
  },
  {
   "cell_type": "code",
   "execution_count": 13,
   "metadata": {},
   "outputs": [],
   "source": [
    "# Load Dec_2019\n",
    "query = \"SELECT * FROM dbo.Sales_December_2019\"\n",
    "Dec_2019 = pd.read_sql(query, connection)"
   ]
  },
  {
   "cell_type": "markdown",
   "metadata": {},
   "source": [
    "#### Load the data from the source (Jan_2019 - Jun_2019)\n",
    " "
   ]
  },
  {
   "cell_type": "code",
   "execution_count": 14,
   "metadata": {},
   "outputs": [],
   "source": [
    "Jan_2019= pd.read_csv('../Data/Sales_January_2019.csv')\n",
    "Feb_2019= pd.read_csv('../Data/Sales_February_2019.csv')\n",
    "Mar_2019= pd.read_csv('../Data/Sales_March_2019.csv')\n",
    "Apr_2019= pd.read_csv('../Data/Sales_April_2019.csv')\n",
    "May_2019= pd.read_csv('../Data/Sales_May_2019.csv')\n",
    "Jun_2019= pd.read_csv('../Data/Sales_June_2019.csv')"
   ]
  }
 ],
 "metadata": {
  "kernelspec": {
   "display_name": "Python 3",
   "language": "python",
   "name": "python3"
  },
  "language_info": {
   "codemirror_mode": {
    "name": "ipython",
    "version": 3
   },
   "file_extension": ".py",
   "mimetype": "text/x-python",
   "name": "python",
   "nbconvert_exporter": "python",
   "pygments_lexer": "ipython3",
   "version": "3.12.6"
  }
 },
 "nbformat": 4,
 "nbformat_minor": 2
}
